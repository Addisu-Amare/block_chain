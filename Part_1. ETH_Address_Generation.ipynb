{
 "cells": [
  {
   "cell_type": "code",
   "execution_count": 1,
   "metadata": {},
   "outputs": [],
   "source": [
    "#!pip install ecdsa"
   ]
  },
  {
   "cell_type": "code",
   "execution_count": 2,
   "metadata": {},
   "outputs": [],
   "source": [
    "#!pip install pycryptodome"
   ]
  },
  {
   "cell_type": "code",
   "execution_count": 3,
   "metadata": {},
   "outputs": [],
   "source": [
    "%run Password_Key_generator.ipynb"
   ]
  },
  {
   "cell_type": "code",
   "execution_count": 4,
   "metadata": {},
   "outputs": [],
   "source": [
    "#Defining Libraries:\n",
    "import os\n",
    "import ecdsa\n",
    "from Crypto.Hash import keccak    \n",
    "from Password_Key_generator import password_pvt_key"
   ]
  },
  {
   "cell_type": "markdown",
   "metadata": {},
   "source": [
    "CheckSum (SHA3)"
   ]
  },
  {
   "cell_type": "code",
   "execution_count": 5,
   "metadata": {},
   "outputs": [],
   "source": [
    "#!pip install ecdsa\n",
    "#!pip install pycryptodome\n",
    "%run Password_Key_generator.ipynb\n",
    "#Defining Libraries:\n",
    "import os\n",
    "import ecdsa\n",
    "from Crypto.Hash import keccak    \n",
    "from Password_Key_generator import password_pvt_key\n",
    "def sha3(a):\n",
    "    keccak_hash = keccak.new(digest_bits=256)\n",
    "    keccak_hash.update(a)\n",
    "    #return '0x' + keccak_hash.hexdigest()[24:]\n",
    "    return '0x' + keccak_hash.hexdigest()"
   ]
  },
  {
   "cell_type": "code",
   "execution_count": 6,
   "metadata": {},
   "outputs": [],
   "source": [
    "#Function for Checksum\n",
    "def checksum_encode(addr_str): # Takes a hex (string) address as input\n",
    "    keccak_hash = keccak.new(digest_bits=256)\n",
    "    out = ''\n",
    "    addr = addr_str.lower().replace('0x', '')\n",
    "    keccak_hash.update(addr.encode('ascii'))\n",
    "    hash_addr = keccak_hash.hexdigest()\n",
    "    for i, c in enumerate(addr):\n",
    "        #print(i,c, hash_addr[i])\n",
    "        if int(hash_addr[i], 16) >= 8:\n",
    "            out += c.upper()\n",
    "        else:\n",
    "            out += c\n",
    "    return '0x' + out"
   ]
  },
  {
   "cell_type": "code",
   "execution_count": 7,
   "metadata": {},
   "outputs": [],
   "source": [
    "def test(addrstr):\n",
    "    assert(addrstr == checksum_encode(addrstr))"
   ]
  },
  {
   "cell_type": "code",
   "execution_count": 8,
   "metadata": {},
   "outputs": [],
   "source": [
    "def ecdsa_maths(private_key_from_hex):\n",
    "    sk = ecdsa.SigningKey.from_string(private_key_from_hex, curve = ecdsa.SECP256k1)\n",
    "    #actual publickey to verify messages that singed using own pvt key\n",
    "    verification_key = sk.verifying_key\n",
    "    #making Public Key:\n",
    "    public_key =  verification_key.to_string()\n",
    "    #print(public_key.hex())\n",
    "    return public_key"
   ]
  },
  {
   "cell_type": "code",
   "execution_count": 9,
   "metadata": {},
   "outputs": [],
   "source": [
    "def address(passwrd):\n",
    "    #Storing Hex_of_Private_key\n",
    "    password = passwrd\n",
    "    print(\"You Entered/Generated Private key.....\\n\\n\")\n",
    "    \n",
    "    #calling ecdsa_math function to receive public_key of the private_key(password)\n",
    "    public_key = ecdsa_maths(password)\n",
    "    print(\"Public_Key:\", public_key.hex())\n",
    "    \n",
    "\n",
    "    #Taking SHA of public_key\n",
    "    print('\\n\\nTaking SHA3 of Public_Key (32 bytes)')\n",
    "    full_address = sha3(public_key)\n",
    "    print('Full Address(32B):',full_address)\n",
    "    \n",
    "    #last_20bytes_of_public_key_Address\n",
    "    print(\"\\n\\nEthereum Address is last 20bytes of Full Address\")\n",
    "    address = full_address[26:]\n",
    "    print(\"Address:\",address)\n",
    "    \n",
    "    #print(\"Raw_Address\", address,'\\n')\n",
    "    print(f'\\nPrivate Key: {password.hex()}\\nChecksum Address: {checksum_encode(address)}')"
   ]
  },
  {
   "cell_type": "code",
   "execution_count": 10,
   "metadata": {},
   "outputs": [],
   "source": [
    "class passwords:\n",
    "    def by_password():\n",
    "        private_key = password_pvt_key()\n",
    "        return bytes.fromhex(private_key)\n",
    "    \n",
    "    def own_pvt_key():\n",
    "        private_key = input(\"Enter 32 bytes Random hexnumber: \")\n",
    "        return bytes.fromhex(private_key)\n",
    "    \n",
    "    def random_key():\n",
    "        private_key = os.urandom(32).hex()\n",
    "        return bytes.fromhex(private_key)"
   ]
  },
  {
   "cell_type": "code",
   "execution_count": 11,
   "metadata": {},
   "outputs": [
    {
     "name": "stdout",
     "output_type": "stream",
     "text": [
      "\n",
      "Ethereum Address Generator:\n",
      "1. Own Password\n",
      "2. Own Private key\n",
      "3. Random Private key\n",
      "\n",
      "Enter: 3\n",
      "You Entered/Generated Private key.....\n",
      "\n",
      "\n",
      "Public_Key: f29aae6e200ebcb21ae57b639e560d09517b220e97d330140588a9c8b6a859e4931d61d306e94addfdf1966a78598fa8f07f3e636b2d68748052318bd96d9469\n",
      "\n",
      "\n",
      "Taking SHA3 of Public_Key (32 bytes)\n",
      "Full Address(32B): 0x1dc7037587548cdf3514fd8fd17f42c74d3a04ac82285d0bf74fe10cbbd50b66\n",
      "\n",
      "\n",
      "Ethereum Address is last 20bytes of Full Address\n",
      "Address: d17f42c74d3a04ac82285d0bf74fe10cbbd50b66\n",
      "\n",
      "Private Key: 5c084cb7d17b6fc48105ef551bae8da100902ff70f0bc43cb74406573276f632\n",
      "Checksum Address: 0xD17F42c74D3a04ac82285D0bf74fe10cBbD50B66\n"
     ]
    }
   ],
   "source": [
    "print('''\n",
    "Ethereum Address Generator:\n",
    "1. Own Password\n",
    "2. Own Private key\n",
    "3. Random Private key\n",
    "'''\n",
    ")\n",
    "user_ip = input(\"Enter: \")\n",
    "\n",
    "if user_ip == '1':\n",
    "    password = passwords.by_password()\n",
    "\n",
    "    address(password)\n",
    "    \n",
    "elif user_ip == '2':\n",
    "    password = passwords.own_pvt_key()\n",
    "    address(password)\n",
    "    \n",
    "elif user_ip == '3':\n",
    "    password = passwords.random_key()\n",
    "    address(password)"
   ]
  },
  {
   "cell_type": "code",
   "execution_count": 12,
   "metadata": {},
   "outputs": [
    {
     "name": "stdout",
     "output_type": "stream",
     "text": [
      "Enter Address: 0xD17F42c74D3a04ac82285D0bf74fe10cBbD50B66\n",
      "Not a valid address!\n"
     ]
    }
   ],
   "source": [
    "try:\n",
    "    validity_of_address = input(\"Enter Address:\")\n",
    "    test(validity_of_address)\n",
    "    print('Great!!')\n",
    "except:\n",
    "    print('Not a valid address!')\n",
    "    "
   ]
  },
  {
   "cell_type": "code",
   "execution_count": 13,
   "metadata": {},
   "outputs": [
    {
     "data": {
      "text/plain": [
       "True"
      ]
     },
     "execution_count": 13,
     "metadata": {},
     "output_type": "execute_result"
    }
   ],
   "source": [
    "import webbrowser\n",
    "webbrowser.open('https://app.infura.io/') \n",
    "# Avoid using goreli "
   ]
  },
  {
   "cell_type": "code",
   "execution_count": null,
   "metadata": {},
   "outputs": [],
   "source": []
  },
  {
   "cell_type": "code",
   "execution_count": null,
   "metadata": {},
   "outputs": [],
   "source": []
  },
  {
   "cell_type": "markdown",
   "metadata": {},
   "source": []
  },
  {
   "cell_type": "markdown",
   "metadata": {},
   "source": [
    "pre-requisite:\n",
    "Generate 2 Ethereum testnet addresses (address_1, address_2)\n",
    "Keep Address_1 as your main test address (use the Sepolia test network"
   ]
  },
  {
   "cell_type": "code",
   "execution_count": 6,
   "metadata": {},
   "outputs": [
    {
     "name": "stdout",
     "output_type": "stream",
     "text": [
      "privatekey 0x43f160b479d833d783d1c1f57b48860e98c6fe491130e65c89dbd25a2724d988\n",
      "Address1 0x5E2542C53856344896dCA1925C2B5CDB7977ADDA\n"
     ]
    }
   ],
   "source": [
    "from eth_account import Account\n",
    "import secrets\n",
    "priv=secrets.token_hex(32)\n",
    "private_key=\"0x\"+priv\n",
    "print(\"privatekey\",private_key)\n",
    "acc=Account.from_key(private_key)\n",
    "print(\"Address1\",acc.address)"
   ]
  },
  {
   "cell_type": "code",
   "execution_count": 8,
   "metadata": {},
   "outputs": [
    {
     "name": "stdout",
     "output_type": "stream",
     "text": [
      "privatekey 0xb8c393e060dc094342e201532ff7e86ba287b8c2e4ef62bd1e65eda30b6b66fd\n",
      "Address2 0x91deed5867A589bF76a86C4d849D96913BC948DF\n"
     ]
    }
   ],
   "source": [
    "from eth_account import Account\n",
    "import secrets\n",
    "priv=secrets.token_hex(32)\n",
    "private_key=\"0x\"+priv\n",
    "print(\"privatekey\",private_key)\n",
    "acc=Account.from_key(private_key)\n",
    "print(\"Address2\",acc.address)"
   ]
  },
  {
   "cell_type": "code",
   "execution_count": 10,
   "metadata": {},
   "outputs": [
    {
     "data": {
      "text/plain": [
       "True"
      ]
     },
     "execution_count": 10,
     "metadata": {},
     "output_type": "execute_result"
    }
   ],
   "source": [
    "import webbrowser\n",
    "webbrowser.open('https://app.infura.io/') "
   ]
  },
  {
   "cell_type": "markdown",
   "metadata": {},
   "source": [
    "# Block chain home work_1"
   ]
  },
  {
   "cell_type": "markdown",
   "metadata": {},
   "source": [
    "pre-requisite: \n",
    "Generate 2 Ethereum testnet addresses (address_1, address_2) Keep Address_1 as your main test address (use the Sepolia test network"
   ]
  },
  {
   "cell_type": "markdown",
   "metadata": {},
   "source": [
    "Generated Address\n",
    "\n",
    "privatekey 0xb8c393e060dc094342e201532ff7e86ba287b8c2e4ef62bd1e65eda30b6b66fd\n",
    "\n",
    "Address1 0x91deed5867A589bF76a86C4d849D96913BC948DF\n",
    "\n",
    "privatekey 0x43f160b479d833d783d1c1f57b48860e98c6fe491130e65c89dbd25a2724d988\n",
    "\n",
    "Address2 0x5E2542C53856344896dCA1925C2B5CDB7977ADDA"
   ]
  },
  {
   "cell_type": "markdown",
   "metadata": {},
   "source": [
    "Task:\n",
    "(1 point) Create a user-interacting interface to connect to different blockchain networks, \n",
    "i.e., mainnet, testnets (any two),and ganache (Hint: Take input from the User and use the if-else method to connect to different networks. \n",
    "         User different Infura/Alchemy Endpoints).\n",
    "         \n",
    "        "
   ]
  },
  {
   "cell_type": "code",
   "execution_count": 2,
   "metadata": {},
   "outputs": [
    {
     "name": "stdout",
     "output_type": "stream",
     "text": [
      "Welcome to the blockchain network connector!\n",
      "Choose the network you want to connect to:\n",
      "1. Mainnet\n",
      "2. Testnet 1\n",
      "3. Testnet 2\n",
      "4. Ganache\n",
      "Enter your choice (1/2/3/4): 2\n",
      "Connected to the network successfully!\n",
      "Web3 version: 6.15.1\n",
      "Network ID: 11155111\n"
     ]
    }
   ],
   "source": [
    "from web3 import Web3\n",
    "# Infura/Alchemy endpoints for different networks\n",
    "mainnet_endpoint = \"https://mainnet.infura.io/v3/f604c0a99d15460390e5094883f0118e\"\n",
    "testnet1_endpoint = \"https://sepolia.infura.io/v3/f604c0a99d15460390e5094883f0118e\"\n",
    "testnet2_endpoint = \"https://goerli.infura.io/v3/f604c0a99d15460390e5094883f0118e\"\n",
    "ganache_endpoint = \"HTTP://127.0.0.1:7545\" # ganache is local\n",
    "\n",
    "def connect_to_network(endpoint):\n",
    "    try:\n",
    "        web3 = Web3(Web3.HTTPProvider(endpoint))\n",
    "        network_version = web3.net.version\n",
    "        if network_version:\n",
    "            print(\"Connected to the network successfully!\")\n",
    "            return web3\n",
    "    except Exception as e:\n",
    "        print(\"Failed to connect to the network:\", e)\n",
    "        return None\n",
    "\n",
    "def main():\n",
    "    print(\"Welcome to the blockchain network connector!\")\n",
    "    print(\"Choose the network you want to connect to:\")\n",
    "    print(\"1. Mainnet\")\n",
    "    print(\"2. Testnet 1\")\n",
    "    print(\"3. Testnet 2\")\n",
    "    print(\"4. Ganache\")\n",
    "\n",
    "    choice = input(\"Enter your choice (1/2/3/4): \")\n",
    "\n",
    "    if choice == \"1\":\n",
    "        web3 = connect_to_network(mainnet_endpoint)\n",
    "    elif choice == \"2\":\n",
    "        web3 = connect_to_network(testnet1_endpoint)\n",
    "    elif choice == \"3\":\n",
    "        web3 = connect_to_network(testnet2_endpoint)\n",
    "    elif choice == \"4\":\n",
    "        web3 = connect_to_network(ganache_endpoint)\n",
    "    else:\n",
    "        print(\"Invalid choice. Please select a valid option.\")\n",
    "        return\n",
    "\n",
    "    if web3:\n",
    "        print(\"Web3 version:\", web3.api)\n",
    "        print(\"Network ID:\", web3.net.version)\n",
    "\n",
    "if __name__ == \"__main__\":\n",
    "    main()"
   ]
  },
  {
   "cell_type": "markdown",
   "metadata": {},
   "source": [
    "2 (1 point) Get some Ethereum test coins to your testnet address_1 from faucet B. Provide the Transaction link of the testnet work."
   ]
  },
  {
   "cell_type": "markdown",
   "metadata": {},
   "source": [
    "\n",
    "#2 https://sepolia.etherscan.io/tx/0x92047883710817351b8177601cab5685361c8fe247cc0ae73c27b3f2c4ca62d9\n"
   ]
  },
  {
   "cell_type": "markdown",
   "metadata": {},
   "source": [
    "3"
   ]
  },
  {
   "cell_type": "markdown",
   "metadata": {},
   "source": [
    "(2 points) From Task_1, connect to the Ethereum network and provide codes to interact with the blockchain (Testnet will be bette):\n",
    "\n",
    "    a. Checking block height at any time.\n",
    "    b. Getting information about a block.\n",
    "    c. Get balance information of your address_1.\n",
    "    d. From Task 4.3. Convert the balance to ether."
   ]
  },
  {
   "cell_type": "code",
   "execution_count": 3,
   "metadata": {},
   "outputs": [
    {
     "name": "stdout",
     "output_type": "stream",
     "text": [
      "Connected to the network successfully!\n",
      "Block height: 5341981\n",
      "Block information for block number 5322579\n",
      "Block hash: 0x1436706507466acfa301757e215f3c92cfb41f5c282b9e5b04cb7d947ae5e199\n",
      "Block timestamp: 1708373328\n",
      "Block transactions: [HexBytes('0x80a42499ce778e84ae4a208e41c55f02f64d1e6fecec42f4a9bfb213e5d1bd6f'), HexBytes('0x079bde49d63f2ae90d619a512d701e904c40b0088c2d36c214a3f5315bbcde21'), HexBytes('0x1ea9f8f8424f15485e83d37adf749866bf66952d03ca81f00b910322df33e7aa'), HexBytes('0x44928ab9f39722622175b58cee3da9fc1ab1fe0787d24ce4ff58fa8c5b1dfb95'), HexBytes('0x4e5627caf4c87d2b783e3a553ab52e30a6161fe70e540ebdd87f2524a931b736'), HexBytes('0x92047883710817351b8177601cab5685361c8fe247cc0ae73c27b3f2c4ca62d9'), HexBytes('0xe687a9addb271d3844189c123994f8544a5d5cb3b1da63df624b2fe60a0cb878'), HexBytes('0xeab4e18b5e1fcfab16ed6abe6f330afa175ee6f35c9f3e5ac690f7e0786cb736'), HexBytes('0x95f046f5e4d7c90b2dd9cdd6e2bcf2f704c2a501a109d928fe952b2499e903fc'), HexBytes('0x2a97ae0d9e22cb177167db3af69952b3af3ee7d570b8b161e1c614b0d69c4bd6'), HexBytes('0x651ebb7edd88e370dbc110155b36beb007510cc52b873c2be512b35aa11ef5a4'), HexBytes('0xe2cd8d2231a1d657bcf1e76c8ecd6e251af4b74398065792f1860e6cbcc05ed0'), HexBytes('0x241255d65c2c803e7e66744a8b5c790b018abf8e5aa1cc956484a41bc58caf54'), HexBytes('0x65478f16a4d41a1fd789128376f3ebbf7e9b67b2bb71da09dff80a37862a4c4d'), HexBytes('0x98cef32e4c63e71ab4f6e8562d4270b19c92d66698862ad78d0ba33ade2173eb'), HexBytes('0x1fbb30f3329dee5dbf173bcd63e03ce9a3e7e25b7859fad712a2f743c24a3a93'), HexBytes('0xdafe05c8fb1e05aaf816f1c83c939453463d79f4711aca86d7d9e674322fa4bb'), HexBytes('0xfe99d4c797c46c27934e7f9fe4a37226d572325f39e76be3976bf6c0fde4cb13'), HexBytes('0xf48882464091d7ab5adbd142bd8962cd9b8d04751c2a7f2366f5f0eb1c0a4bef'), HexBytes('0x9821139d86d2d2de2b08f28000f0e545758b7e3408a799038e2fa4e7d48d25de'), HexBytes('0x374b9aa62373ebe81341705b87b9f4b99a9a5c8d836f2a474d08ef199d30064d'), HexBytes('0x8b7439c17583015c7a14af3a2e28d96db9d48c21b382710cca4760fda268d9da'), HexBytes('0x2103cfe8a2dcdb698e16e57c24f2a92570226e9ee0653f62759fdfd19de3b0df'), HexBytes('0xbc7c3bf8201537589bbe2c937a83d80dffc491c2630bd8979cb03d23e33eaf13'), HexBytes('0x7c4395b22be0273cd5241683453ab3a05bb75affd50436c4712007195dd3c3ec'), HexBytes('0xab53db1794efa0445884ae807f0809f41f0462fd676c92a2311c032d5395464a'), HexBytes('0x8cdb198177ae3742e36e7e672636084a2eb7c1730cb23b4b4df912b7c1141f4a'), HexBytes('0xcc98c22933daf104ad10695b5aeb043ad096db3fddca8118ccc15780296c6c70'), HexBytes('0x48d8df6852c82e44edad3dd2597188027f1ff48361bcd11c4923c2f72d0e4dbd'), HexBytes('0x463d42ed90741ad943231ad0a9f5d46ff23ea0b78c2dbd15e4d08290d8c8832e'), HexBytes('0x8ff0185ebef9794df8d016cda9ea1c471335f3c4bede4fe066e6a5b7cdc8e813'), HexBytes('0x40e756b8cb8ee41871e7a8478341bca18695cf832982792c1599e559e58dcfbf'), HexBytes('0xdece4e44016ab37cd85587691c5573c564f8d544dc5f4a914b6e7f4bc15607ec'), HexBytes('0xf464e9cd7538cbc2b09bf03dcda95e7c7f395dc51f12eb403d7eddbff9bfc9eb'), HexBytes('0x54f429865aec30e6d5aff6c72101850c14697ee68fa493615a3c96e2c5979fef'), HexBytes('0x2e97a1c49e1872d3a2e8cd5ae5e1458ba36d697ee1638a89580afcc32bffa115'), HexBytes('0xe19085afc7a64be8a578f29c573c81e3c887e2c671348d30b28cf8ec4dcdf0b8'), HexBytes('0x17d7a7c0fc8b2e4a8bef2254f2866da145783be51f0cab0026bdbe9c3bbf21c4'), HexBytes('0xe423e44cee10a10fabf90b4a2908627d2ee29d35a174ca87fcf3a3d943df71f5'), HexBytes('0x417307f4291264d7a7d9a08a0c1b40f92e73095492bf022efd786504e2c1637c'), HexBytes('0xc796a97b587e93cfab48d9769462cc0721561c9497ae410b016736d8272811b4'), HexBytes('0xdd9011e5f391f04842df6e3b76ed311bacffffa8ee3a50714a8a1d08b7a8a2b6'), HexBytes('0xe32d9ab8aada689f43b0f8f8c6305367410bae3b2b5bc76c05e00c51539a7997'), HexBytes('0x188a6d0456c07c83feb7d661ecf91a5851b78125c2bd69ae9c7f5b9818cffe4f'), HexBytes('0xee5d1ef612b15ab801101f4b023059366cfb694ec14a75d0d78235c0e28c02db'), HexBytes('0xa36bd0bcf824ff0944d6ff598dcf48cec9003d7335e6e2c333d26327b8adeae9'), HexBytes('0xd68103b0bbab165ec5974e88ca3821e1123ab8ebea81a0a9f43f9d7a040e8e70'), HexBytes('0x66196e556a5eefe66e457c900c02d41d99dd7c7c2f51092fa3397317427f0f21'), HexBytes('0x6d7bf6c894f23509efcf2641182bdbf9fc0faa04e9b365f2ceea97f4c9b72dd6'), HexBytes('0x4779942db3c1c55d7a46b3e4e9b293dd954ddf65615605fc50273a595ac16df0'), HexBytes('0x9e2ce5c9095c617139cd4b9bec2ae9c13316d147994466c289d9ea199ad25b91'), HexBytes('0xee021597c09a56a3ebd96ac3e0f4b65d2ba883f09438673598c7caf72b9ac129'), HexBytes('0xe26f74f9da7cfbe933adf4ac0b19be32ea2081321e20a2012c0b6fac16722146'), HexBytes('0x741f2ebbab6484e5ae1fe48dedd42f78d397ee3aa89e704c7a2a854956f15c42'), HexBytes('0x40d70080667fdde22b135cf6ed1bc30bac55ef67452c27025abe638404f253a7'), HexBytes('0x9af5ce8fe1b6080dea2cf0d84e5f5136d2c12e54e7f53333b925bc771e72f62e'), HexBytes('0x071af1fb622b80e807cd965c6d0be7c41c23d2f1bfec9d9cc4e2b9c19e12a59f'), HexBytes('0x96d304eface68da37646510fe2a8b395110d7bade559394aab08f4bb00993097'), HexBytes('0x3e23387ffe962573a35e56ad22a7ecd2646cbb0c8f5e6800de07483abbdf1e99'), HexBytes('0x89e174592954a1ab3f3096c9562cdfdad68d594915d30dfb2be10b82c33de17c'), HexBytes('0x0f5d58aa2348e3afe560449e6e7d3145509cd994c3d101e21c3673644c13a82d'), HexBytes('0x2237124e00a5056913ab736f0ff7b593c74b2daf191a685408f6a5f394764dc3'), HexBytes('0xa2cb17559ce7b790bc4f0f28462208dffc9020949d36aadbcb079eea97286f5b'), HexBytes('0x327b35313452b2b22c9484e93aeb4c0e1e645314e54a4e9811ee34786b60ca72'), HexBytes('0x66f56b07b4c36deca27efc39e22355390a6de5a17502be1637057d0b4b747781'), HexBytes('0x9525c5468dac95e5fb03d3200aa5fbe9776ac77f979f39f8c0a5afa6195044ff'), HexBytes('0xe699bed3dda03bc1771e977e9ca58b3128069b356cc918ae219ba9629b96512b'), HexBytes('0x89399667023ffc3534ef99efa953d40c89171e1a177ba6005f38f340b7b5ecd6'), HexBytes('0xf13c0cd90ab2a02e3fac9f3333f342146659486ec90df235f39d73e5062725db'), HexBytes('0x140264798ee557b4802e2546c3226f3cba06f138144e99c11418044356d40f0d'), HexBytes('0x989b4e6b7c9d70e837316c07ae97517e117733d5492cf63aa99510b0e581e347'), HexBytes('0x8dcf086cbdac265419cbb7c5e6f721a515a26b6cc4ad3bf626b944e169298ddf'), HexBytes('0x1322190c05f24b75b0d8bfc9ec227dd31f7dc6ccb806bbb2f4863d4e089d4baf'), HexBytes('0xec9be3a08ffbf2d0cbba82b65d7f632f81f6b483a6e9c8683280a5cbf2c3f362'), HexBytes('0x9b7ee84a3729ae0ae4eaf86bdabf5934ea69f8efc80410c6b1095bb6e3801391'), HexBytes('0x5db4185ee1aa202944826e149d652f912c437971466476f42c304112ceca21fa'), HexBytes('0x25b151a04e5e8354de525ee69c41639c93bb9f042ba74c61b4a5fe8395f73951'), HexBytes('0x521d467e189e83f89ca2e30c29f3eee99bdd1680442871ba1acedbf82ec19f19'), HexBytes('0x189ba575313a328482ef6fe27bc974e908529f356cfa55e39a5ed26f43818f2e'), HexBytes('0x82c0901bf2706bfad441e3d44914c08ec544fb3d1e152bbc81fec5e65c25de4f'), HexBytes('0xd297c26e81c0de9902852a1920cf7276a085a2586655ab0341161889b6f21fae'), HexBytes('0xf7dcb0b39eafc94be23d908a75b095e58e64c4f394f3fcd2ef1464b8fbffa166'), HexBytes('0xa9f0b3a42ed4ebdb9230dc2cfc0d1216ccc582c111c5043a93a5ba9ffb179ac2'), HexBytes('0xb37a8a4d46246a45dac6192db87f7b31de17eefc3fb9ed3ad11cc50dde05e05b'), HexBytes('0xf2713b718c64464db6b835a97293492f26268b418c2ba271c009a19a4583a9c4'), HexBytes('0xc2985a559919f07e6018e6333d413cf574b7641b7eda466478f2c1a874ca4d8d'), HexBytes('0x09b7be1acb4cb6246c225c591f0591b24ce7a84092c31ee45a43b50c89bf9fcc'), HexBytes('0x42b8f5a10b83d971c6124b0adf63b247c69a34072acd62f590de539efecee350'), HexBytes('0x91cb41687044476c03ccdc17879b16b906d4d1706b280dfc67d8f1c2783e340f'), HexBytes('0x01049fea191627d22898af9d58f727a83ca05b6603d70d583825d4945edce5f8'), HexBytes('0x7cee2520790032fbe130277cff916c86869422a2d2cc5cb4755fadb8dcf58f53'), HexBytes('0x410b142e006aa1437ec63cd08e08e3a3b54b11bb965522213fe5d323342a31d6'), HexBytes('0x8477cef12909c1e33227559fec60c442fdd1d3a95f9d3f25d2603aee0758fdd3'), HexBytes('0x5ebbb586d4a397a0eb0e438325203903675713c7c5e4eeb9e019e383bf468092'), HexBytes('0x8c8c1f310ca760ca95dc91a47cd29f5310b1d2b2656dba4de84f95ab57a84c67'), HexBytes('0x8281d5766b18c28cfe97b1e3b5137ace17706e32db06e7646bfcddd81f63c91d'), HexBytes('0x3a4cc6c7c68eb8b2ac08d06817fd60019658e68fc760094ba9618bdedad46a2d'), HexBytes('0x9d59487ea317ea08a7b8776a50c927626f7bd382f510cbbec8846c1ffdb0864e'), HexBytes('0xf5947d2f5c3ce2d09671cbc5aca42ece7f9d85a4abe8a89eabfe32c77d47fd13'), HexBytes('0x16e3dc2d20259a5924caa3582255b6f8660d2141da38b712a7a945d44fa8e387'), HexBytes('0x0bed4c0fe31bd4ed339889f14212fa342202445b46467b1b082960039d54918d'), HexBytes('0x6875407661220a8689d26306689b22ced8bfcc8f80be76eae07095e38b1cf5a4'), HexBytes('0x4a3e8b8af9e27379149708be200d56d3ebcb621f4e4f1fe4e6de78d3d13419e3'), HexBytes('0xe92b9ba80fc04ec9847ac574197469086888dd97bd5bac38952f66236613893d'), HexBytes('0x4d1c809e5ee95adb17c7cdd1b58edf43e57984aba6d4969b953025df1eb43ddc'), HexBytes('0xbcd5f01164503a6bcd55f745fee2c37a0e3aef76d374881482e10d886b25b98b'), HexBytes('0x25c2b5e720d6566b99e581034c83d0d69ca091173c45941cf227ec550a39343c'), HexBytes('0x8d7d620004e9523943f050be9cfbdf4c57ae9500ee9477a5c52cc78fc4bed6ab'), HexBytes('0x021a07e4538be325eee9f66ed57b287e2177eaad86af955a6b1cdfbf094ab28c'), HexBytes('0x845d62bd66892ba10409faced68305ff2e61cea1cff39d21c614c9943ac5f948'), HexBytes('0x7e2a1a1a47722007699cbf5414fc13ac4f740f8ff8d5a6a0cefe66248c956d8e'), HexBytes('0xcedce39da662380c6e19a7dfb20ff317a02dd05a69526ca643575301cc478da3'), HexBytes('0x9a91c67d1d0faacaeed5699c161cd795a5b81675aebea5397b9e950feca6c1f1'), HexBytes('0x4a627168e3e1a1d9854df9c918e10cafdde74d9268609ca9970d60f52bc8d2ac'), HexBytes('0x2b43664fd88234ea2886c4e45a920c9db89355862e9d0f803fbbb2bdfe15373e'), HexBytes('0x761d4943852fa4881c4fde8b7366edff5d6b125f8ff09e99708c660cbf44bd22'), HexBytes('0x17b3d26f69d070765bec62f7665f43d6933695211cd6c9e25a33126703cfa44f'), HexBytes('0xa6a175548a791c7df6610ef1e22f231afbcda13b28311dd34b7fad35779e0045'), HexBytes('0xd4cee61d3d26221f7dada943b8aa2faafe7cac676f873952895bcaa54c71afb9'), HexBytes('0x6839ea8c8a35dd649b039ced8fe720696099afccd06d10f39bc375410e19340f'), HexBytes('0x40f578ddf2c40af710358ef1b7e1ea9017b7c15072d6a77b1abb12a5916e643f'), HexBytes('0x7f93ef41fca3ad4f551bf88efeeae22252c1897171e1c404c007fbdc1ecc5fbb'), HexBytes('0x23014d6ca008bc9d103ec34f4ac4837baa8e2077987603796670748a885fbb2d'), HexBytes('0x3d20bef5c3ea0ab3fabbfd5247b123901b7e542612ae9f9db1b0e8e6bf3773ea'), HexBytes('0x8138d0791e99dbcde7dc26c3d411ffb6b504d4f7762b5ed3adfe830ee31e1208'), HexBytes('0xd737de66b0f932844e7870cf53623598da36960ab81ccb77b89b08aeadd9257b'), HexBytes('0x772f5d9af125e671e2dcc11454859efaa69a2ba4336cf9ca3bf88299b0ce36bf'), HexBytes('0xe8c8fc63b79752cb40e24ba468f3c0fed8e34c48c29b0ca5422216d7935471a5'), HexBytes('0xa1646542a3406c3efb88d4e47846d3557a571f4407632f1bfa5b6054d0192794'), HexBytes('0xaa558e1acc5929967e561bdfd40e36627fb258e0c061327809475cc93efdfe02'), HexBytes('0x40fb14809bec834a14a5c2acc8add9925f890b81231b181a701c223f5205209e'), HexBytes('0x212b5ecca7f85b6fb785de7141dc67ea64dfc1b29f6ffee8add1f4020576ab98'), HexBytes('0xe711c51f2ecd22c797fc5b57ec2272fbb7a947f683a054a777ece3121fb0b027'), HexBytes('0xdc816afef81a4920bb0630c06a726e7d6d443705427b2225a2018416d0bcec60'), HexBytes('0x0d680494fc2828a1bbfa84105801689dbb75d39632b1cf8915a69738e71f4047'), HexBytes('0x767f1f3fda44bc6342046c8d77dc8189a39a4e66630a4a6c180b9d0c92678bb1'), HexBytes('0x86344a9d619a3b941494ab78b7b1833f5068327997986b00ec605d613369f5f7'), HexBytes('0x9f27b2c20f7f9f57c13e84ea0c2cf8c72f976a5b266ee5fac4724e47199752ba'), HexBytes('0xec58e3dabf352a990786325e91d1a95d1c5fd59bc1afaada4ba648cb16e48b6a'), HexBytes('0xf20fd5ba46e6c33551ae402479f6b5ee8689ad1c47e51c9a1bb0d615294924d0'), HexBytes('0x8dfb0345a121fbac88d3894f04ae110dcf3ee22dbeae701ac12a65ddea1b59ee'), HexBytes('0x668de83240d5ce26c1e8ae9a7546b77072d9a87874a4049396d63f829492f7a8'), HexBytes('0xe7e938a259481475f3dba5c628baa1d15c0f0fd804d611f01792259b74071bd7'), HexBytes('0x680829ba57a27d41b7ddf5a8b54e35229b5aa5fd27130d032972a85420e5b9ef'), HexBytes('0x4f87d5255fb93fb16bae1f1fc0c089db06ef723b356589d32c9631a40f1b5e2d'), HexBytes('0x817a6214da105fdbdb30ce7fd888beefbdf6637e964a80209d61576833cde13d'), HexBytes('0x91b5a94e3c50327cabdbb9444e5e6a224c994acec3a5aa756c6424286968b158'), HexBytes('0x216038c37f2430ca40b2f51a51e3c0d7fb71e911500a2506676fe246347cf9bf'), HexBytes('0xaabcad085c394bc2a89cb6e02d46b0ca03385c486b9388728be0c17e639d474a'), HexBytes('0x9803b08f21dbf03e2f41fddb676ce4f2be0cbf6b9762ccad579b136e210a11b9'), HexBytes('0x8b78991ed3fe52ca38c4cdbefed490d1bcb428ee166ebd1fa4ac48a96993b811'), HexBytes('0x7aa2a13409f662bfa668828b46498c54ce00cd298f7dc32e6a76b75cf1e6f1b9'), HexBytes('0xf3896b8b3bfeea0dc159eb8116720ae7fa41c43e922d520eed8f3ca8385630a5'), HexBytes('0xa35863d0db8c01116c1db94ebd2c1e1eac5750ac9ab1b1f5c8d6969e9a8de5ec'), HexBytes('0xeece8b594225a56884d2ef4a1165586156b12d1d75432193f8485b9cd93f6940'), HexBytes('0x57b0e5edb7354320b505877955bdebe7d87bebd6f5bf4d42656348525fd9afea'), HexBytes('0x683cb5b8a5e95fa5dcc1582cd8c9a4f00f9f637ef72f752d2ab9569ae05b9320'), HexBytes('0x5ed14df51ac8aca1afd563c29ce890f657ac645a29256980356b6ba2d5a85c39'), HexBytes('0xc21e667b2e6049a75ff191f05b6716b6cfa8e944d48ec82f9419368a78d1aa1b'), HexBytes('0xd2cc2c08c9bd4eeba6ec73df1607707590f32f1bd8c8736e810cb38e810731f4'), HexBytes('0x09700eac2b7834161219bc7e06528ebccf6388045808028497bfae736bcdab7e'), HexBytes('0x7b8bee9ca979ee913b697305e6974c3a1a259d2e80469a410a49ed639a67efe6'), HexBytes('0x34f6254b1e0dde216e14c74d3a0bca612f32a88fe9394a68c264a6041efe3c13'), HexBytes('0x52794ff6e6a75fe43837b3bb3030242833871528ed9660e43af860e09230a8b3'), HexBytes('0x4cae2975a4dca844ac4b67189c52ecea155cb89bd4455807baca74ac2f6b175c'), HexBytes('0xa368b32f677a4ff5fdae5a3749203118fc0b25ed225dcac1ac51598adc35bf36'), HexBytes('0xa2350d9e0b92ae26bdada4cd3dc9e2e49f59dc49505c979dd5ca8a6a6757f3ab'), HexBytes('0xc667dcf50065babb5a1a986bd067823322af3180d5166661dd1a0353f323a543'), HexBytes('0x2dad836848e0965e62a048e117a4f921a0fa11f8833284a55c64c5fa441999a7'), HexBytes('0xf7289cf6b33cc3f6387641eb4ea05b5b069b257bf51b83a36b771218e18cd6e5'), HexBytes('0x937b15cbc18d85a783ac9d19741a59fae2cb1ca687cdaab6245c7eb6bfdfdeac'), HexBytes('0x1290335635c5283e6f92afc04cc966c4f02a9eeb54d06e484c79395441cea766'), HexBytes('0x3f3145e755c53f29c25da36ebbdff715742dc0333b0370bdbd96075cb46172e8'), HexBytes('0x3d014aa8aed231e4a5fc48f7cc25de88b496d83e1a204e042907e255986f63a2'), HexBytes('0x02b1a5525af6be6b7adef953ac56ad4624e90410cc14926751edf1062ffc5903'), HexBytes('0x432b972b69987254cd170d8c22245fa20720d92ccbc3337416af39a8ee7b9231'), HexBytes('0xbac5ff79d2027d55fb2607ead20317e3d88cc5be8e0a15ad44fb348109201aa5'), HexBytes('0x06a73e5a8efdcba0b06200f6006d42cd29bf3538acf6cf405642c0b6f41d7ee5'), HexBytes('0x5bb484247b1048a9dddbda1e92f03f9f338600d85d217a8c1fe208bc2d8f30d9'), HexBytes('0x0fcc7630190d3249b64101bb7fa3dbf04574a812f68aa15bf29daff5d61b04f0'), HexBytes('0x959d1bed3003cbb1c7eeb48961535d19c3acaee32b0f960360e60fa5fccbcac4'), HexBytes('0x9822d70f0c4af357fcaedd6b6ec5d1eb8f0e652123d05eef19fbd76ca5e2da60'), HexBytes('0x39fefd1aba142b8caca6616d452e2f28592ad04312755f3557b00e93fbedf619'), HexBytes('0x25497d8dbac87e9269e7d9d3850f3dbdb43081c826b5a1045bac55793699cff0'), HexBytes('0xa5b4fdd40c594bd198351763fff386b2f2760cfae375d682e97ab0de7f34420a'), HexBytes('0x3f69a02142a3f11861eb48dac489e2b42920876c8de4307464302552f6432dc1'), HexBytes('0x147fc3af957baa166372a030ff6987a026be5258b78235d3603773201de88c3f'), HexBytes('0x93fa304af7ee3b47c4c3ac90ee213359e7bd32f44d0aa29d0cc5882f5ee187c1'), HexBytes('0x3b9bb18820a5b347dfc44fc040a609316dbaf09b9bb3024d06c3096e037683e1'), HexBytes('0x0f4f25e9d476560f458f20fc38c59f10d8e03642fdb1fb2783fc47e82a04a77f'), HexBytes('0x148f22c75296741b21542c8de368762623da160ff033b3416a97c6d20de1ec39'), HexBytes('0xbe34d298c109b7da038ec5e55d8cfa3cad97025b9a900b0d7dd131cc19f9a90b'), HexBytes('0x2bb960b331731bfdc2f740afb355e39b9bbee843f6629fba0bbe4e363ddcc519'), HexBytes('0x6bc0078ab991c5c01ffd41fcc6139f3453874f2ed576dc4b69550f3b949c7b75'), HexBytes('0x9bf5e7ad8153141f852d78f93b47776b3f6556962de730fd84af4590787138e1'), HexBytes('0xd0d3b6d6a47e78f1958986177d853893723afeaeaa9061380f41a465a89341d0'), HexBytes('0xcfdaa562556fba98fd3f5660b9c5ff576d3b604e08751207659ae44d614f8716'), HexBytes('0x6ed73bf2508ce2c74a76bfc8d2c164afc3af3dfb3cf88e2f15fe07344ca2d6fd'), HexBytes('0xb61187ee46069cfc80600265d17bc52fabf32aeea31f5172b6a2bc96af3243fa'), HexBytes('0xb2bd5de5ecb290f3e9498e61a62fcd07304ca08cfb5de5ef97deefe6d2668663')]\n",
      "Balance of address 0x91deed5867A589bF76a86C4d849D96913BC948DF in wei: 36914966932192026\n"
     ]
    },
    {
     "name": "stdout",
     "output_type": "stream",
     "text": [
      "ether amount is: 0.036914966932192025\n"
     ]
    }
   ],
   "source": [
    "from web3 import Web3\n",
    "sepolia_endpoint = \"https://sepolia.infura.io/v3/f604c0a99d15460390e5094883f0118e\"\n",
    "def connect_to_network(endpoint):\n",
    "    try:\n",
    "        web3 = Web3(Web3.HTTPProvider(endpoint))\n",
    "        network_version = web3.net.version\n",
    "        if network_version:\n",
    "            print(\"Connected to the network successfully!\")\n",
    "            return web3\n",
    "    except Exception as e:\n",
    "        print(\"Failed to connect to the network:\", e)\n",
    "        return None\n",
    "\n",
    "def check_block_height(web3):\n",
    "    try:\n",
    "        block_height = web3.eth.block_number\n",
    "        print(\"Block height:\", block_height)\n",
    "    except Exception as e:\n",
    "        print(\"Failed to retrieve block height:\", e)\n",
    "\n",
    "def get_block_info(web3, block_number):\n",
    "    try:\n",
    "        block = web3.eth.get_block(block_number)\n",
    "        print(\"Block information for block number\", block_number)\n",
    "        print(\"Block hash:\", block['hash'].hex())\n",
    "        print(\"Block timestamp:\", block['timestamp'])\n",
    "        print(\"Block transactions:\", block['transactions'])\n",
    "    except Exception as e:\n",
    "        print(\"Failed to retrieve block information:\", e)\n",
    "\n",
    "def get_balance(web3, address):\n",
    "    try:\n",
    "        balance_wei = web3.eth.get_balance(address)\n",
    "        print(\"Balance of address\", address, \"in wei:\", balance_wei)\n",
    "        return balance_wei\n",
    "    except Exception as e:\n",
    "        print(\"Failed to retrieve balance:\", e)\n",
    "        return None\n",
    "\n",
    "def convert_wei_to_ether(balance_wei):\n",
    "    try:\n",
    "        balance_ether = web3.fromWei(balance_wei, 'ether')\n",
    "        print(\"Balance in ether:\", balance_ether)\n",
    "    except Exception as e:\n",
    "        print(\"Failed to convert balance to ether:\", e)\n",
    "\n",
    "# Connect to sepolia testnet\n",
    "web3 = connect_to_network(sepolia_endpoint)\n",
    "\n",
    "# Example usage\n",
    "if web3:\n",
    "    # a. Checking block height at any time\n",
    "    check_block_height(web3)\n",
    "\n",
    "    # b. Getting information about a block\n",
    "    block_number = 5322579  # Specify the block number you want to get information about\n",
    "    get_block_info(web3, block_number)\n",
    "\n",
    "    # c. Get balance information of your address_1\n",
    "    address_1 = \"0x91deed5867A589bF76a86C4d849D96913BC948DF\"  \n",
    "    balance_wei = get_balance(web3, address_1)\n",
    "    print(\"ether amount is:\",(web3.eth.get_balance(address_1)/10e17))\n",
    "\n",
    "      "
   ]
  },
  {
   "cell_type": "markdown",
   "metadata": {},
   "source": [
    "4 (1 point) Send some Eth test coins from address_1 to address_2 and provide Transaction_ID. (Use seminar file, not Metamask)"
   ]
  },
  {
   "cell_type": "code",
   "execution_count": 20,
   "metadata": {},
   "outputs": [
    {
     "name": "stdout",
     "output_type": "stream",
     "text": [
      "Connected to Testnet: True\n"
     ]
    }
   ],
   "source": [
    "from web3 import Web3\n",
    "testnet_url = \"https://sepolia.infura.io/v3/f604c0a99d15460390e5094883f0118e\"\n",
    "web3 = Web3(Web3.HTTPProvider(testnet_url))\n",
    "print(\"Connected to Testnet:\",web3.is_connected())\n"
   ]
  },
  {
   "cell_type": "code",
   "execution_count": 21,
   "metadata": {},
   "outputs": [
    {
     "name": "stdout",
     "output_type": "stream",
     "text": [
      "50000000000000000\n"
     ]
    }
   ],
   "source": [
    "#Alice\n",
    "address_1 = \"0x91deed5867A589bF76a86C4d849D96913BC948DF\"\n",
    "print(web3.eth.get_balance(address_1))"
   ]
  },
  {
   "cell_type": "code",
   "execution_count": 22,
   "metadata": {},
   "outputs": [
    {
     "name": "stdout",
     "output_type": "stream",
     "text": [
      "0.05\n"
     ]
    }
   ],
   "source": [
    "#check balance of 0x91deed5867A589bF76a86C4d849D96913BC948D\n",
    "print(web3.eth.get_balance(address_1)/10e17)"
   ]
  },
  {
   "cell_type": "code",
   "execution_count": 23,
   "metadata": {},
   "outputs": [
    {
     "name": "stdout",
     "output_type": "stream",
     "text": [
      "0.07968946\n"
     ]
    }
   ],
   "source": [
    "#check Bob's balance:\n",
    "address_bob = \"0x5E2542C53856344896dCA1925C2B5CDB7977ADDA\"\n",
    "print(web3.eth.get_balance(address_2)/10e17)"
   ]
  },
  {
   "cell_type": "code",
   "execution_count": 24,
   "metadata": {},
   "outputs": [
    {
     "name": "stdout",
     "output_type": "stream",
     "text": [
      "Enter Eth Address: 0x91deed5867A589bF76a86C4d849D96913BC948DF\n"
     ]
    }
   ],
   "source": [
    "#Enter Address\n",
    "sender_address = input(\"Enter Eth Address: \")\n",
    "#We are no doing checksum, assumption address is correct, else no transaction will happen."
   ]
  },
  {
   "cell_type": "code",
   "execution_count": 25,
   "metadata": {},
   "outputs": [
    {
     "name": "stdout",
     "output_type": "stream",
     "text": [
      "Enter Private Key for your 0x91deed5867A589bF76a86C4d849D96913BC948DF address:\n",
      " 0xb8c393e060dc094342e201532ff7e86ba287b8c2e4ef62bd1e65eda30b6b66fd\n"
     ]
    },
    {
     "data": {
      "text/plain": [
       "50000000000000000"
      ]
     },
     "execution_count": 25,
     "metadata": {},
     "output_type": "execute_result"
    }
   ],
   "source": [
    "private_key = input(f\"Enter Private Key for your {sender_address} address:\\n \")\n",
    "nonce = web3.eth.get_transaction_count(sender_address)\n",
    "web3.eth.get_balance(sender_address)"
   ]
  },
  {
   "cell_type": "code",
   "execution_count": 26,
   "metadata": {},
   "outputs": [
    {
     "name": "stdout",
     "output_type": "stream",
     "text": [
      "0.05 Ether(s)\n",
      "Enter Receiver's address0x5E2542C53856344896dCA1925C2B5CDB7977ADDA\n",
      "Ethers: 0.00001\n"
     ]
    }
   ],
   "source": [
    "print(web3.eth.get_balance(sender_address) / 1e18, 'Ether(s)')\n",
    "tx = {\n",
    "      'nonce':nonce,\n",
    "      #'from': account_1,\n",
    "      'to': input(\"Enter Receiver's address\"),\n",
    "      'value': web3.to_wei(float(input(\"Ethers: \")),'ether'),\n",
    "      'gas':200000,\n",
    "      'gasPrice':web3.to_wei('50','gwei')\n",
    "      }"
   ]
  },
  {
   "cell_type": "code",
   "execution_count": 28,
   "metadata": {},
   "outputs": [
    {
     "name": "stdout",
     "output_type": "stream",
     "text": [
      "rawTransaction: 0xf86b80850ba43b740083030d40945e2542c53856344896dca1925c2b5cdb7977adda8609184e72a000801ca04635578a09f37bc7118804051dc26c971dbeb841ccfe41c31f119cfd2b186323a04d4f5784fd853fc88a7f39a89599b9dea383a27f4bf5f17a98d6d6a342bd8640 \n",
      "hash: 0xb8ca2f4fd1517937e4c77e614e646d5be0fc13ed7be618b4d70bb72b95ff6397\n",
      "r: 31756146468714686331265238117024078061283691782750936410153194143747684197155\n",
      "v: 28\n",
      "s: 34968274296372960424305970196413276001202279443844026171691301264230742591040\n"
     ]
    }
   ],
   "source": [
    "signed_tx = web3.eth.account.sign_transaction(tx,private_key)\n",
    "print(f\"rawTransaction: {signed_tx['rawTransaction'].hex()} \\nhash: {signed_tx['hash'].hex()}\\nr: {signed_tx['r']}\\nv: {signed_tx['v']}\\ns: {signed_tx['s']}\")"
   ]
  },
  {
   "cell_type": "code",
   "execution_count": 29,
   "metadata": {},
   "outputs": [
    {
     "name": "stdout",
     "output_type": "stream",
     "text": [
      "0xb8ca2f4fd1517937e4c77e614e646d5be0fc13ed7be618b4d70bb72b95ff6397\n"
     ]
    }
   ],
   "source": [
    "tx_hash = web3.eth.send_raw_transaction(signed_tx[\"rawTransaction\"]).hex()\n",
    "print(tx_hash)"
   ]
  },
  {
   "cell_type": "markdown",
   "metadata": {},
   "source": [
    "link:https://sepolia.etherscan.io/tx/0xb8ca2f4fd1517937e4c77e614e646d5be0fc13ed7be618b4d70bb72b95ff6397"
   ]
  },
  {
   "cell_type": "markdown",
   "metadata": {},
   "source": [
    "5 (2 points) Create a smart contract to add two numbers. (Hint: \n",
    "a. Use ide http://remix.ethereum.org/Links to an external site..\n",
    "b. Use any version of the compiler.\n",
    "c. Create a function add (passing two parameters from User) variables declared in the state variable.\n",
    "d. Connect to any blockchain.\n",
    "e. Just provide the code.\n",
    "f. Reference document: https://docs.soliditylang.org/en/v0.8.24/)."
   ]
  },
  {
   "cell_type": "markdown",
   "metadata": {},
   "source": [
    "//solidity code:\n",
    "\n",
    "pragma solidity >=0.8;\n",
    "\n",
    "contract SolidityTest {\n",
    "\n",
    "uint a=10;\n",
    "\n",
    "uint b=20;uint sum;\n",
    "\n",
    "function getResult() public  returns (uint){\n",
    "    sum=a+b;\n",
    "    return sum;\n",
    "   }\n",
    "}"
   ]
  },
  {
   "cell_type": "markdown",
   "metadata": {},
   "source": [
    "(3 points) Create an ERC20 smart contract:\n",
    "a. Create 100 tokens.\n",
    "\n",
    "b. Deploy the contract from address_2. Provide contract creation transaction_id and \n",
    "\n",
    "contract address (the address created when the contract is deployed) and a 3-letter abbreviation of your coin.\n",
    "\n",
    "We will check the existence of the sepolia testnet.\n",
    "\n",
    "c. Send ten tokens to 0x80773c866332a7f3CFdD583d0b3A96655F035d6C address. (Provide Transaction Id)"
   ]
  },
  {
   "cell_type": "markdown",
   "metadata": {},
   "source": [
    "1// SPDX-License-Identifier: MIT\n",
    "pragma solidity ^0.5.8;\n",
    "\n",
    "import \"@openzeppelin/contracts/token/ERC20/ERC20.sol\";\n",
    "\n",
    "contract MyToken is ERC20 \n",
    "{\n",
    "\n",
    "    constructor() ERC20(\"MyToken\", \"MTK\") \n",
    "    {\n",
    "        _mint(msg.sender, 100 * 10 ** decimals());\n",
    "    }\n",
    "    function sendTokens(address _to, uint256 _amount) external {\n",
    "        transfer(_to, _amount);\n",
    "    }\n",
    "}"
   ]
  },
  {
   "cell_type": "markdown",
   "metadata": {},
   "source": [
    "b. Deploy the contract from address_2. Provide contract creation transaction_id and\n",
    "\n",
    "contract address (the address created when the contract is deployed) and a 3-letter abbreviation of your coin.\n",
    "\n",
    "We will check the existence of the sepolia testnet.\n",
    "\n",
    "transation Id:0xdbf441af1e8da73a6aa167fc37f6e797d909b98576286c4658403e40d6d725db\n",
    "\n",
    "\n",
    "answer\n",
    " \n",
    "3-letter abbreviation of your coin:MTK\n",
    "\n",
    "the address created when the contract is deployed\n",
    "\n",
    "0xF6894711435dCCC659F1a1AC462391601EdAF4f5"
   ]
  },
  {
   "cell_type": "markdown",
   "metadata": {},
   "source": [
    "c. Send ten tokens to 0x80773c866332a7f3CFdD583d0b3A96655F035d6C address. (Provide Transaction Id)\n",
    "by mistake i transacted 91 token.\n",
    "\n",
    "\n",
    "\n",
    "Transaction Id:0x859fb53f1e83ebbd594ac45bf06209b092487c70c8d13cb42c79a50a815394fb"
   ]
  }
 ],
 "metadata": {
  "kernelspec": {
   "display_name": "Python 3 (ipykernel)",
   "language": "python",
   "name": "python3"
  },
  "language_info": {
   "codemirror_mode": {
    "name": "ipython",
    "version": 3
   },
   "file_extension": ".py",
   "mimetype": "text/x-python",
   "name": "python",
   "nbconvert_exporter": "python",
   "pygments_lexer": "ipython3",
   "version": "3.9.13"
  },
  "widgets": {
   "application/vnd.jupyter.widget-state+json": {
    "state": {},
    "version_major": 2,
    "version_minor": 0
   }
  }
 },
 "nbformat": 4,
 "nbformat_minor": 2
}
